{
 "cells": [
  {
   "cell_type": "markdown",
   "metadata": {},
   "source": [
    "This notebook was constructed using Python 3."
   ]
  },
  {
   "cell_type": "markdown",
   "metadata": {},
   "source": [
    "# Raw data"
   ]
  },
  {
   "cell_type": "markdown",
   "metadata": {},
   "source": [
    "The following data set contains various customer information including whether the customer responded to a marketing campaign or not (the `responded` column). \n"
   ]
  },
  {
   "cell_type": "code",
   "execution_count": 1,
   "metadata": {
    "scrolled": true
   },
   "outputs": [
    {
     "data": {
      "text/html": [
       "<div>\n",
       "<style>\n",
       "    .dataframe thead tr:only-child th {\n",
       "        text-align: right;\n",
       "    }\n",
       "\n",
       "    .dataframe thead th {\n",
       "        text-align: left;\n",
       "    }\n",
       "\n",
       "    .dataframe tbody tr th {\n",
       "        vertical-align: top;\n",
       "    }\n",
       "</style>\n",
       "<table border=\"1\" class=\"dataframe\">\n",
       "  <thead>\n",
       "    <tr style=\"text-align: right;\">\n",
       "      <th></th>\n",
       "      <th>custAge</th>\n",
       "      <th>profession</th>\n",
       "      <th>marital</th>\n",
       "      <th>schooling</th>\n",
       "      <th>default</th>\n",
       "      <th>housing</th>\n",
       "      <th>loan</th>\n",
       "      <th>contact</th>\n",
       "      <th>month</th>\n",
       "      <th>day_of_week</th>\n",
       "      <th>campaign</th>\n",
       "      <th>pdays</th>\n",
       "      <th>previous</th>\n",
       "      <th>poutcome</th>\n",
       "      <th>emp.var.rate</th>\n",
       "      <th>cons.price.idx</th>\n",
       "      <th>cons.conf.idx</th>\n",
       "      <th>euribor3m</th>\n",
       "      <th>nr.employed</th>\n",
       "      <th>pmonths</th>\n",
       "      <th>pastEmail</th>\n",
       "      <th>responded</th>\n",
       "    </tr>\n",
       "  </thead>\n",
       "  <tbody>\n",
       "    <tr>\n",
       "      <th>0</th>\n",
       "      <td>55.0</td>\n",
       "      <td>admin.</td>\n",
       "      <td>single</td>\n",
       "      <td>university.degree</td>\n",
       "      <td>unknown</td>\n",
       "      <td>no</td>\n",
       "      <td>no</td>\n",
       "      <td>cellular</td>\n",
       "      <td>nov</td>\n",
       "      <td>mon</td>\n",
       "      <td>1</td>\n",
       "      <td>999</td>\n",
       "      <td>0</td>\n",
       "      <td>nonexistent</td>\n",
       "      <td>-0.1</td>\n",
       "      <td>93.200</td>\n",
       "      <td>-42.0</td>\n",
       "      <td>4.191</td>\n",
       "      <td>5195.8</td>\n",
       "      <td>999.0</td>\n",
       "      <td>0</td>\n",
       "      <td>no</td>\n",
       "    </tr>\n",
       "    <tr>\n",
       "      <th>1</th>\n",
       "      <td>NaN</td>\n",
       "      <td>blue-collar</td>\n",
       "      <td>married</td>\n",
       "      <td>NaN</td>\n",
       "      <td>no</td>\n",
       "      <td>no</td>\n",
       "      <td>no</td>\n",
       "      <td>cellular</td>\n",
       "      <td>jul</td>\n",
       "      <td>mon</td>\n",
       "      <td>1</td>\n",
       "      <td>999</td>\n",
       "      <td>0</td>\n",
       "      <td>nonexistent</td>\n",
       "      <td>1.4</td>\n",
       "      <td>93.918</td>\n",
       "      <td>-42.7</td>\n",
       "      <td>4.960</td>\n",
       "      <td>5228.1</td>\n",
       "      <td>999.0</td>\n",
       "      <td>0</td>\n",
       "      <td>no</td>\n",
       "    </tr>\n",
       "    <tr>\n",
       "      <th>2</th>\n",
       "      <td>42.0</td>\n",
       "      <td>technician</td>\n",
       "      <td>married</td>\n",
       "      <td>high.school</td>\n",
       "      <td>no</td>\n",
       "      <td>no</td>\n",
       "      <td>no</td>\n",
       "      <td>telephone</td>\n",
       "      <td>may</td>\n",
       "      <td>mon</td>\n",
       "      <td>1</td>\n",
       "      <td>999</td>\n",
       "      <td>0</td>\n",
       "      <td>nonexistent</td>\n",
       "      <td>1.1</td>\n",
       "      <td>93.994</td>\n",
       "      <td>-36.4</td>\n",
       "      <td>4.857</td>\n",
       "      <td>5191.0</td>\n",
       "      <td>999.0</td>\n",
       "      <td>0</td>\n",
       "      <td>no</td>\n",
       "    </tr>\n",
       "    <tr>\n",
       "      <th>3</th>\n",
       "      <td>55.0</td>\n",
       "      <td>management</td>\n",
       "      <td>divorced</td>\n",
       "      <td>NaN</td>\n",
       "      <td>unknown</td>\n",
       "      <td>yes</td>\n",
       "      <td>yes</td>\n",
       "      <td>cellular</td>\n",
       "      <td>jul</td>\n",
       "      <td>wed</td>\n",
       "      <td>2</td>\n",
       "      <td>999</td>\n",
       "      <td>0</td>\n",
       "      <td>nonexistent</td>\n",
       "      <td>1.4</td>\n",
       "      <td>93.918</td>\n",
       "      <td>-42.7</td>\n",
       "      <td>4.962</td>\n",
       "      <td>5228.1</td>\n",
       "      <td>999.0</td>\n",
       "      <td>0</td>\n",
       "      <td>no</td>\n",
       "    </tr>\n",
       "    <tr>\n",
       "      <th>4</th>\n",
       "      <td>NaN</td>\n",
       "      <td>admin.</td>\n",
       "      <td>divorced</td>\n",
       "      <td>university.degree</td>\n",
       "      <td>no</td>\n",
       "      <td>yes</td>\n",
       "      <td>no</td>\n",
       "      <td>cellular</td>\n",
       "      <td>may</td>\n",
       "      <td>tue</td>\n",
       "      <td>5</td>\n",
       "      <td>999</td>\n",
       "      <td>1</td>\n",
       "      <td>failure</td>\n",
       "      <td>-1.8</td>\n",
       "      <td>92.893</td>\n",
       "      <td>-46.2</td>\n",
       "      <td>1.291</td>\n",
       "      <td>5099.1</td>\n",
       "      <td>999.0</td>\n",
       "      <td>1</td>\n",
       "      <td>no</td>\n",
       "    </tr>\n",
       "  </tbody>\n",
       "</table>\n",
       "</div>"
      ],
      "text/plain": [
       "   custAge   profession   marital          schooling  default housing loan  \\\n",
       "0     55.0       admin.    single  university.degree  unknown      no   no   \n",
       "1      NaN  blue-collar   married                NaN       no      no   no   \n",
       "2     42.0   technician   married        high.school       no      no   no   \n",
       "3     55.0   management  divorced                NaN  unknown     yes  yes   \n",
       "4      NaN       admin.  divorced  university.degree       no     yes   no   \n",
       "\n",
       "     contact month day_of_week  campaign  pdays  previous     poutcome  \\\n",
       "0   cellular   nov         mon         1    999         0  nonexistent   \n",
       "1   cellular   jul         mon         1    999         0  nonexistent   \n",
       "2  telephone   may         mon         1    999         0  nonexistent   \n",
       "3   cellular   jul         wed         2    999         0  nonexistent   \n",
       "4   cellular   may         tue         5    999         1      failure   \n",
       "\n",
       "   emp.var.rate  cons.price.idx  cons.conf.idx  euribor3m  nr.employed  \\\n",
       "0          -0.1          93.200          -42.0      4.191       5195.8   \n",
       "1           1.4          93.918          -42.7      4.960       5228.1   \n",
       "2           1.1          93.994          -36.4      4.857       5191.0   \n",
       "3           1.4          93.918          -42.7      4.962       5228.1   \n",
       "4          -1.8          92.893          -46.2      1.291       5099.1   \n",
       "\n",
       "   pmonths  pastEmail responded  \n",
       "0    999.0          0        no  \n",
       "1    999.0          0        no  \n",
       "2    999.0          0        no  \n",
       "3    999.0          0        no  \n",
       "4    999.0          1        no  "
      ]
     },
     "execution_count": 1,
     "metadata": {},
     "output_type": "execute_result"
    }
   ],
   "source": [
    "import pandas as pd\n",
    "pd.set_option('max_columns', 200)\n",
    "def read_csv(filename): \n",
    "    return pd.read_csv(filename)\n",
    "df = read_csv('marketing_training.csv')\n",
    "df.head()"
   ]
  },
  {
   "cell_type": "markdown",
   "metadata": {},
   "source": [
    "Here are the descriptions of each column: \n",
    "![title](column_descriptions.png)"
   ]
  },
  {
   "cell_type": "markdown",
   "metadata": {},
   "source": [
    "# Data cleaning\n",
    "### Unknown and nonexistent\n",
    "I noticed some predictors took on the values `unknown` and `nonexistent`:"
   ]
  },
  {
   "cell_type": "code",
   "execution_count": 2,
   "metadata": {},
   "outputs": [
    {
     "data": {
      "text/plain": [
       "array(['admin.', 'blue-collar', 'technician', 'management', 'services',\n",
       "       'unemployed', 'housemaid', 'unknown', 'self-employed', 'retired',\n",
       "       'student', 'entrepreneur'], dtype=object)"
      ]
     },
     "execution_count": 2,
     "metadata": {},
     "output_type": "execute_result"
    }
   ],
   "source": [
    "df.profession.unique()"
   ]
  },
  {
   "cell_type": "code",
   "execution_count": 3,
   "metadata": {},
   "outputs": [
    {
     "data": {
      "text/plain": [
       "array(['nonexistent', 'failure', 'success'], dtype=object)"
      ]
     },
     "execution_count": 3,
     "metadata": {},
     "output_type": "execute_result"
    }
   ],
   "source": [
    "df.poutcome.unique()"
   ]
  },
  {
   "cell_type": "markdown",
   "metadata": {},
   "source": [
    "These values are equivalent to missing data, which is represented by `NaN` in pandas. I therefore replaced these special values with `NaN`: "
   ]
  },
  {
   "cell_type": "code",
   "execution_count": 4,
   "metadata": {
    "collapsed": true
   },
   "outputs": [],
   "source": [
    "import numpy as np\n",
    "df = df.replace('unknown', np.nan)\n",
    "df = df.replace('nonexistent', np.nan)"
   ]
  },
  {
   "cell_type": "markdown",
   "metadata": {},
   "source": [
    "### Redundant columns (collinearity) \n",
    "\n",
    "The variables `pdays` and `pmonths` are perfectly correlated so one should be removed. I find it easier to count days in whole numbers than in fractions of a month, so I dropped the `pmonths` column: "
   ]
  },
  {
   "cell_type": "code",
   "execution_count": 5,
   "metadata": {
    "collapsed": true
   },
   "outputs": [],
   "source": [
    "df = df.drop('pmonths',axis=1)"
   ]
  },
  {
   "cell_type": "markdown",
   "metadata": {},
   "source": [
    "### Contact in a previous campaign\n",
    "\n",
    "I noticed that customers who were not contacted in a previous campaign were assigned the number 999 in the `pdays` column. In reality, values for this predictor variable are only defined for customers who were previously contacted. \n",
    "\n",
    "One approach is to partition the data into two sets: customers who were or were not contacted in a previous campaign. The partition containing customers who were contacted would contain a `pdays` column while the other partition wouldn't. One could then train predictive models on each partition and use the appropriate model to make predictions. I decided against this approach, in the first analysis, because the training set size for customers who were previously contacted was so small (not shown). The learning curves that I plot below confirm that such small data sets suffer from high variance. \n",
    "\n",
    "The alternative approach is to introduce a predictor boolean variable to indicate whether a customer was or was not contacted in a previous campaign. Though this approach suffers from ambiguity in the choice of `pdays` for those customers who were not previously contacted, it does alleviate concerns about small training set size. \n",
    "\n",
    "\n"
   ]
  },
  {
   "cell_type": "code",
   "execution_count": 6,
   "metadata": {
    "collapsed": true
   },
   "outputs": [],
   "source": [
    "# True and False are equivalent to 1 and 0 in numerical computations\n",
    "df['previously_contacted'] = df.pdays!=999 "
   ]
  },
  {
   "cell_type": "markdown",
   "metadata": {},
   "source": [
    "The creation of an additional feature to indicate previous contact is especially important given that the target variable appears to be highly correlated with it. Concretely, customers who were contacted in a previous campaign were more likely to respond well to the current marketing campaign:   "
   ]
  },
  {
   "cell_type": "code",
   "execution_count": 7,
   "metadata": {
    "scrolled": true
   },
   "outputs": [
    {
     "data": {
      "text/plain": [
       "21     yes\n",
       "69     yes\n",
       "108    yes\n",
       "125    yes\n",
       "184    yes\n",
       "190     no\n",
       "196     no\n",
       "238    yes\n",
       "241     no\n",
       "304    yes\n",
       "Name: responded, dtype: object"
      ]
     },
     "execution_count": 7,
     "metadata": {},
     "output_type": "execute_result"
    }
   ],
   "source": [
    "def target_variable(was_previously_contacted): \n",
    "    return df[df.previously_contacted==was_previously_contacted].responded.head(10)\n",
    "\n",
    "target_variable(was_previously_contacted=True)   "
   ]
  },
  {
   "cell_type": "code",
   "execution_count": 8,
   "metadata": {},
   "outputs": [
    {
     "data": {
      "text/plain": [
       "0     no\n",
       "1     no\n",
       "2     no\n",
       "3     no\n",
       "4     no\n",
       "5     no\n",
       "6    yes\n",
       "7     no\n",
       "8     no\n",
       "9     no\n",
       "Name: responded, dtype: object"
      ]
     },
     "execution_count": 8,
     "metadata": {},
     "output_type": "execute_result"
    }
   ],
   "source": [
    "target_variable(was_previously_contacted=False)   "
   ]
  },
  {
   "cell_type": "markdown",
   "metadata": {},
   "source": [
    "The current value of `pdays` for customers who were not contacted in a previous campaign (999) is problematic. 999 is quite distant from the  valid range of values of `pdays`, which is 0 - 22: \n"
   ]
  },
  {
   "cell_type": "code",
   "execution_count": 9,
   "metadata": {},
   "outputs": [
    {
     "data": {
      "text/plain": [
       "array([999,   6,   7,   5,   1,   3,  10,  15,   2,  22,  14,   4,   9,\n",
       "        11,  12,  13,   8,  16,   0,  17,  21])"
      ]
     },
     "execution_count": 9,
     "metadata": {},
     "output_type": "execute_result"
    }
   ],
   "source": [
    "df.pdays.unique()"
   ]
  },
  {
   "cell_type": "markdown",
   "metadata": {},
   "source": [
    "This implies that most of the dynamic range is uninformative. \n",
    "\n",
    "A better special value for `pdays` is one that is closer to the valid range but obviously non-valid, such as -1: "
   ]
  },
  {
   "cell_type": "code",
   "execution_count": 10,
   "metadata": {
    "collapsed": true
   },
   "outputs": [],
   "source": [
    "df.loc[df.pdays==999, 'pdays'] = -1"
   ]
  },
  {
   "cell_type": "markdown",
   "metadata": {},
   "source": [
    "# Categorical data \n",
    "\n",
    "* **One-hot encoding**\n",
    "Categorical variables need to be encoded before feeding them into a learning algorithm that expects numerical input. One cannot assign scalars to each categorical value because that would impose an arbitrary and meaningless order to the values. Instead, one should expand the feature space to include features for each possible value of the categorical variable. The usual way to do this is termed one-hot encoding: each categorical value becomes a vector in which the component corresponding to the variable's value is set to 1 (i.e made \"hot\") while the other components are set to 0. \n",
    "* **Missing values**\n",
    "In the first instance I chose to consider missing categorical data as just another value (`NaN`) for the categorical variable. This way, if the data were not missing at random, then I ought to be able to detect this in my model. \n",
    "\n",
    "* **Collinearity**\n",
    "I dropped the first column in each one-hot encoding of a categorical variable in order to prevent collinearity (column dependency). \n"
   ]
  },
  {
   "cell_type": "code",
   "execution_count": 11,
   "metadata": {},
   "outputs": [
    {
     "data": {
      "text/html": [
       "<div>\n",
       "<style>\n",
       "    .dataframe thead tr:only-child th {\n",
       "        text-align: right;\n",
       "    }\n",
       "\n",
       "    .dataframe thead th {\n",
       "        text-align: left;\n",
       "    }\n",
       "\n",
       "    .dataframe tbody tr th {\n",
       "        vertical-align: top;\n",
       "    }\n",
       "</style>\n",
       "<table border=\"1\" class=\"dataframe\">\n",
       "  <thead>\n",
       "    <tr style=\"text-align: right;\">\n",
       "      <th></th>\n",
       "      <th>custAge</th>\n",
       "      <th>campaign</th>\n",
       "      <th>pdays</th>\n",
       "      <th>previous</th>\n",
       "      <th>emp.var.rate</th>\n",
       "      <th>cons.price.idx</th>\n",
       "      <th>cons.conf.idx</th>\n",
       "      <th>euribor3m</th>\n",
       "      <th>nr.employed</th>\n",
       "      <th>pastEmail</th>\n",
       "      <th>previously_contacted</th>\n",
       "      <th>profession_blue-collar</th>\n",
       "      <th>profession_entrepreneur</th>\n",
       "      <th>profession_housemaid</th>\n",
       "      <th>profession_management</th>\n",
       "      <th>profession_retired</th>\n",
       "      <th>profession_self-employed</th>\n",
       "      <th>profession_services</th>\n",
       "      <th>profession_student</th>\n",
       "      <th>profession_technician</th>\n",
       "      <th>profession_unemployed</th>\n",
       "      <th>profession_nan</th>\n",
       "      <th>marital_married</th>\n",
       "      <th>marital_single</th>\n",
       "      <th>marital_nan</th>\n",
       "      <th>schooling_basic.6y</th>\n",
       "      <th>schooling_basic.9y</th>\n",
       "      <th>schooling_high.school</th>\n",
       "      <th>schooling_illiterate</th>\n",
       "      <th>schooling_professional.course</th>\n",
       "      <th>schooling_university.degree</th>\n",
       "      <th>schooling_nan</th>\n",
       "      <th>default_yes</th>\n",
       "      <th>default_nan</th>\n",
       "      <th>housing_yes</th>\n",
       "      <th>housing_nan</th>\n",
       "      <th>loan_yes</th>\n",
       "      <th>loan_nan</th>\n",
       "      <th>contact_telephone</th>\n",
       "      <th>month_aug</th>\n",
       "      <th>month_dec</th>\n",
       "      <th>month_jul</th>\n",
       "      <th>month_jun</th>\n",
       "      <th>month_mar</th>\n",
       "      <th>month_may</th>\n",
       "      <th>month_nov</th>\n",
       "      <th>month_oct</th>\n",
       "      <th>month_sep</th>\n",
       "      <th>day_of_week_mon</th>\n",
       "      <th>day_of_week_thu</th>\n",
       "      <th>day_of_week_tue</th>\n",
       "      <th>day_of_week_wed</th>\n",
       "      <th>day_of_week_nan</th>\n",
       "      <th>poutcome_success</th>\n",
       "      <th>poutcome_nan</th>\n",
       "      <th>responded_yes</th>\n",
       "    </tr>\n",
       "  </thead>\n",
       "  <tbody>\n",
       "    <tr>\n",
       "      <th>0</th>\n",
       "      <td>55.0</td>\n",
       "      <td>1</td>\n",
       "      <td>-1</td>\n",
       "      <td>0</td>\n",
       "      <td>-0.1</td>\n",
       "      <td>93.200</td>\n",
       "      <td>-42.0</td>\n",
       "      <td>4.191</td>\n",
       "      <td>5195.8</td>\n",
       "      <td>0</td>\n",
       "      <td>False</td>\n",
       "      <td>0</td>\n",
       "      <td>0</td>\n",
       "      <td>0</td>\n",
       "      <td>0</td>\n",
       "      <td>0</td>\n",
       "      <td>0</td>\n",
       "      <td>0</td>\n",
       "      <td>0</td>\n",
       "      <td>0</td>\n",
       "      <td>0</td>\n",
       "      <td>0</td>\n",
       "      <td>0</td>\n",
       "      <td>1</td>\n",
       "      <td>0</td>\n",
       "      <td>0</td>\n",
       "      <td>0</td>\n",
       "      <td>0</td>\n",
       "      <td>0</td>\n",
       "      <td>0</td>\n",
       "      <td>1</td>\n",
       "      <td>0</td>\n",
       "      <td>0</td>\n",
       "      <td>1</td>\n",
       "      <td>0</td>\n",
       "      <td>0</td>\n",
       "      <td>0</td>\n",
       "      <td>0</td>\n",
       "      <td>0</td>\n",
       "      <td>0</td>\n",
       "      <td>0</td>\n",
       "      <td>0</td>\n",
       "      <td>0</td>\n",
       "      <td>0</td>\n",
       "      <td>0</td>\n",
       "      <td>1</td>\n",
       "      <td>0</td>\n",
       "      <td>0</td>\n",
       "      <td>1</td>\n",
       "      <td>0</td>\n",
       "      <td>0</td>\n",
       "      <td>0</td>\n",
       "      <td>0</td>\n",
       "      <td>0</td>\n",
       "      <td>1</td>\n",
       "      <td>0</td>\n",
       "    </tr>\n",
       "    <tr>\n",
       "      <th>1</th>\n",
       "      <td>NaN</td>\n",
       "      <td>1</td>\n",
       "      <td>-1</td>\n",
       "      <td>0</td>\n",
       "      <td>1.4</td>\n",
       "      <td>93.918</td>\n",
       "      <td>-42.7</td>\n",
       "      <td>4.960</td>\n",
       "      <td>5228.1</td>\n",
       "      <td>0</td>\n",
       "      <td>False</td>\n",
       "      <td>1</td>\n",
       "      <td>0</td>\n",
       "      <td>0</td>\n",
       "      <td>0</td>\n",
       "      <td>0</td>\n",
       "      <td>0</td>\n",
       "      <td>0</td>\n",
       "      <td>0</td>\n",
       "      <td>0</td>\n",
       "      <td>0</td>\n",
       "      <td>0</td>\n",
       "      <td>1</td>\n",
       "      <td>0</td>\n",
       "      <td>0</td>\n",
       "      <td>0</td>\n",
       "      <td>0</td>\n",
       "      <td>0</td>\n",
       "      <td>0</td>\n",
       "      <td>0</td>\n",
       "      <td>0</td>\n",
       "      <td>1</td>\n",
       "      <td>0</td>\n",
       "      <td>0</td>\n",
       "      <td>0</td>\n",
       "      <td>0</td>\n",
       "      <td>0</td>\n",
       "      <td>0</td>\n",
       "      <td>0</td>\n",
       "      <td>0</td>\n",
       "      <td>0</td>\n",
       "      <td>1</td>\n",
       "      <td>0</td>\n",
       "      <td>0</td>\n",
       "      <td>0</td>\n",
       "      <td>0</td>\n",
       "      <td>0</td>\n",
       "      <td>0</td>\n",
       "      <td>1</td>\n",
       "      <td>0</td>\n",
       "      <td>0</td>\n",
       "      <td>0</td>\n",
       "      <td>0</td>\n",
       "      <td>0</td>\n",
       "      <td>1</td>\n",
       "      <td>0</td>\n",
       "    </tr>\n",
       "    <tr>\n",
       "      <th>2</th>\n",
       "      <td>42.0</td>\n",
       "      <td>1</td>\n",
       "      <td>-1</td>\n",
       "      <td>0</td>\n",
       "      <td>1.1</td>\n",
       "      <td>93.994</td>\n",
       "      <td>-36.4</td>\n",
       "      <td>4.857</td>\n",
       "      <td>5191.0</td>\n",
       "      <td>0</td>\n",
       "      <td>False</td>\n",
       "      <td>0</td>\n",
       "      <td>0</td>\n",
       "      <td>0</td>\n",
       "      <td>0</td>\n",
       "      <td>0</td>\n",
       "      <td>0</td>\n",
       "      <td>0</td>\n",
       "      <td>0</td>\n",
       "      <td>1</td>\n",
       "      <td>0</td>\n",
       "      <td>0</td>\n",
       "      <td>1</td>\n",
       "      <td>0</td>\n",
       "      <td>0</td>\n",
       "      <td>0</td>\n",
       "      <td>0</td>\n",
       "      <td>1</td>\n",
       "      <td>0</td>\n",
       "      <td>0</td>\n",
       "      <td>0</td>\n",
       "      <td>0</td>\n",
       "      <td>0</td>\n",
       "      <td>0</td>\n",
       "      <td>0</td>\n",
       "      <td>0</td>\n",
       "      <td>0</td>\n",
       "      <td>0</td>\n",
       "      <td>1</td>\n",
       "      <td>0</td>\n",
       "      <td>0</td>\n",
       "      <td>0</td>\n",
       "      <td>0</td>\n",
       "      <td>0</td>\n",
       "      <td>1</td>\n",
       "      <td>0</td>\n",
       "      <td>0</td>\n",
       "      <td>0</td>\n",
       "      <td>1</td>\n",
       "      <td>0</td>\n",
       "      <td>0</td>\n",
       "      <td>0</td>\n",
       "      <td>0</td>\n",
       "      <td>0</td>\n",
       "      <td>1</td>\n",
       "      <td>0</td>\n",
       "    </tr>\n",
       "    <tr>\n",
       "      <th>3</th>\n",
       "      <td>55.0</td>\n",
       "      <td>2</td>\n",
       "      <td>-1</td>\n",
       "      <td>0</td>\n",
       "      <td>1.4</td>\n",
       "      <td>93.918</td>\n",
       "      <td>-42.7</td>\n",
       "      <td>4.962</td>\n",
       "      <td>5228.1</td>\n",
       "      <td>0</td>\n",
       "      <td>False</td>\n",
       "      <td>0</td>\n",
       "      <td>0</td>\n",
       "      <td>0</td>\n",
       "      <td>1</td>\n",
       "      <td>0</td>\n",
       "      <td>0</td>\n",
       "      <td>0</td>\n",
       "      <td>0</td>\n",
       "      <td>0</td>\n",
       "      <td>0</td>\n",
       "      <td>0</td>\n",
       "      <td>0</td>\n",
       "      <td>0</td>\n",
       "      <td>0</td>\n",
       "      <td>0</td>\n",
       "      <td>0</td>\n",
       "      <td>0</td>\n",
       "      <td>0</td>\n",
       "      <td>0</td>\n",
       "      <td>0</td>\n",
       "      <td>1</td>\n",
       "      <td>0</td>\n",
       "      <td>1</td>\n",
       "      <td>1</td>\n",
       "      <td>0</td>\n",
       "      <td>1</td>\n",
       "      <td>0</td>\n",
       "      <td>0</td>\n",
       "      <td>0</td>\n",
       "      <td>0</td>\n",
       "      <td>1</td>\n",
       "      <td>0</td>\n",
       "      <td>0</td>\n",
       "      <td>0</td>\n",
       "      <td>0</td>\n",
       "      <td>0</td>\n",
       "      <td>0</td>\n",
       "      <td>0</td>\n",
       "      <td>0</td>\n",
       "      <td>0</td>\n",
       "      <td>1</td>\n",
       "      <td>0</td>\n",
       "      <td>0</td>\n",
       "      <td>1</td>\n",
       "      <td>0</td>\n",
       "    </tr>\n",
       "    <tr>\n",
       "      <th>4</th>\n",
       "      <td>NaN</td>\n",
       "      <td>5</td>\n",
       "      <td>-1</td>\n",
       "      <td>1</td>\n",
       "      <td>-1.8</td>\n",
       "      <td>92.893</td>\n",
       "      <td>-46.2</td>\n",
       "      <td>1.291</td>\n",
       "      <td>5099.1</td>\n",
       "      <td>1</td>\n",
       "      <td>False</td>\n",
       "      <td>0</td>\n",
       "      <td>0</td>\n",
       "      <td>0</td>\n",
       "      <td>0</td>\n",
       "      <td>0</td>\n",
       "      <td>0</td>\n",
       "      <td>0</td>\n",
       "      <td>0</td>\n",
       "      <td>0</td>\n",
       "      <td>0</td>\n",
       "      <td>0</td>\n",
       "      <td>0</td>\n",
       "      <td>0</td>\n",
       "      <td>0</td>\n",
       "      <td>0</td>\n",
       "      <td>0</td>\n",
       "      <td>0</td>\n",
       "      <td>0</td>\n",
       "      <td>0</td>\n",
       "      <td>1</td>\n",
       "      <td>0</td>\n",
       "      <td>0</td>\n",
       "      <td>0</td>\n",
       "      <td>1</td>\n",
       "      <td>0</td>\n",
       "      <td>0</td>\n",
       "      <td>0</td>\n",
       "      <td>0</td>\n",
       "      <td>0</td>\n",
       "      <td>0</td>\n",
       "      <td>0</td>\n",
       "      <td>0</td>\n",
       "      <td>0</td>\n",
       "      <td>1</td>\n",
       "      <td>0</td>\n",
       "      <td>0</td>\n",
       "      <td>0</td>\n",
       "      <td>0</td>\n",
       "      <td>0</td>\n",
       "      <td>1</td>\n",
       "      <td>0</td>\n",
       "      <td>0</td>\n",
       "      <td>0</td>\n",
       "      <td>0</td>\n",
       "      <td>0</td>\n",
       "    </tr>\n",
       "  </tbody>\n",
       "</table>\n",
       "</div>"
      ],
      "text/plain": [
       "   custAge  campaign  pdays  previous  emp.var.rate  cons.price.idx  \\\n",
       "0     55.0         1     -1         0          -0.1          93.200   \n",
       "1      NaN         1     -1         0           1.4          93.918   \n",
       "2     42.0         1     -1         0           1.1          93.994   \n",
       "3     55.0         2     -1         0           1.4          93.918   \n",
       "4      NaN         5     -1         1          -1.8          92.893   \n",
       "\n",
       "   cons.conf.idx  euribor3m  nr.employed  pastEmail  previously_contacted  \\\n",
       "0          -42.0      4.191       5195.8          0                 False   \n",
       "1          -42.7      4.960       5228.1          0                 False   \n",
       "2          -36.4      4.857       5191.0          0                 False   \n",
       "3          -42.7      4.962       5228.1          0                 False   \n",
       "4          -46.2      1.291       5099.1          1                 False   \n",
       "\n",
       "   profession_blue-collar  profession_entrepreneur  profession_housemaid  \\\n",
       "0                       0                        0                     0   \n",
       "1                       1                        0                     0   \n",
       "2                       0                        0                     0   \n",
       "3                       0                        0                     0   \n",
       "4                       0                        0                     0   \n",
       "\n",
       "   profession_management  profession_retired  profession_self-employed  \\\n",
       "0                      0                   0                         0   \n",
       "1                      0                   0                         0   \n",
       "2                      0                   0                         0   \n",
       "3                      1                   0                         0   \n",
       "4                      0                   0                         0   \n",
       "\n",
       "   profession_services  profession_student  profession_technician  \\\n",
       "0                    0                   0                      0   \n",
       "1                    0                   0                      0   \n",
       "2                    0                   0                      1   \n",
       "3                    0                   0                      0   \n",
       "4                    0                   0                      0   \n",
       "\n",
       "   profession_unemployed  profession_nan  marital_married  marital_single  \\\n",
       "0                      0               0                0               1   \n",
       "1                      0               0                1               0   \n",
       "2                      0               0                1               0   \n",
       "3                      0               0                0               0   \n",
       "4                      0               0                0               0   \n",
       "\n",
       "   marital_nan  schooling_basic.6y  schooling_basic.9y  schooling_high.school  \\\n",
       "0            0                   0                   0                      0   \n",
       "1            0                   0                   0                      0   \n",
       "2            0                   0                   0                      1   \n",
       "3            0                   0                   0                      0   \n",
       "4            0                   0                   0                      0   \n",
       "\n",
       "   schooling_illiterate  schooling_professional.course  \\\n",
       "0                     0                              0   \n",
       "1                     0                              0   \n",
       "2                     0                              0   \n",
       "3                     0                              0   \n",
       "4                     0                              0   \n",
       "\n",
       "   schooling_university.degree  schooling_nan  default_yes  default_nan  \\\n",
       "0                            1              0            0            1   \n",
       "1                            0              1            0            0   \n",
       "2                            0              0            0            0   \n",
       "3                            0              1            0            1   \n",
       "4                            1              0            0            0   \n",
       "\n",
       "   housing_yes  housing_nan  loan_yes  loan_nan  contact_telephone  month_aug  \\\n",
       "0            0            0         0         0                  0          0   \n",
       "1            0            0         0         0                  0          0   \n",
       "2            0            0         0         0                  1          0   \n",
       "3            1            0         1         0                  0          0   \n",
       "4            1            0         0         0                  0          0   \n",
       "\n",
       "   month_dec  month_jul  month_jun  month_mar  month_may  month_nov  \\\n",
       "0          0          0          0          0          0          1   \n",
       "1          0          1          0          0          0          0   \n",
       "2          0          0          0          0          1          0   \n",
       "3          0          1          0          0          0          0   \n",
       "4          0          0          0          0          1          0   \n",
       "\n",
       "   month_oct  month_sep  day_of_week_mon  day_of_week_thu  day_of_week_tue  \\\n",
       "0          0          0                1                0                0   \n",
       "1          0          0                1                0                0   \n",
       "2          0          0                1                0                0   \n",
       "3          0          0                0                0                0   \n",
       "4          0          0                0                0                1   \n",
       "\n",
       "   day_of_week_wed  day_of_week_nan  poutcome_success  poutcome_nan  \\\n",
       "0                0                0                 0             1   \n",
       "1                0                0                 0             1   \n",
       "2                0                0                 0             1   \n",
       "3                1                0                 0             1   \n",
       "4                0                0                 0             0   \n",
       "\n",
       "   responded_yes  \n",
       "0              0  \n",
       "1              0  \n",
       "2              0  \n",
       "3              0  \n",
       "4              0  "
      ]
     },
     "execution_count": 11,
     "metadata": {},
     "output_type": "execute_result"
    }
   ],
   "source": [
    "def one_hot_encode(data_frame): \n",
    "    data_frame = pd.get_dummies(data_frame, dummy_na=True, drop_first=True)\n",
    "    # https://stackoverflow.com/questions/21164910/delete-column-in-pandas-if-it-is-all-zeros:  \n",
    "    return data_frame.loc[:, (data_frame != 0).any(axis=0)] \n",
    "\n",
    "df = one_hot_encode(df)\n",
    "df.head()"
   ]
  },
  {
   "cell_type": "markdown",
   "metadata": {},
   "source": [
    "# Imputing missing numerical values\n",
    "\n",
    "I first added an indicator variable to keep track of whether I imputed `custAge` for the record or not. If the fact that it is missing has a meaning (i.e. customer age is not missing at random), then its impact can be assessed by that indicator variable. Bonus advantage: others who use my pre-processed data are made aware of which variables I imputed. "
   ]
  },
  {
   "cell_type": "code",
   "execution_count": 12,
   "metadata": {
    "collapsed": true
   },
   "outputs": [],
   "source": [
    "def track_missing_ages(data_frame): \n",
    "    data_frame['impute_age'] = data_frame['custAge'].isnull()\n",
    "    return data_frame\n",
    "\n",
    "df = track_missing_ages(df)"
   ]
  },
  {
   "cell_type": "markdown",
   "metadata": {},
   "source": [
    "I next used the column mean to impute missing customer ages:\n",
    "\n"
   ]
  },
  {
   "cell_type": "code",
   "execution_count": 13,
   "metadata": {
    "collapsed": true
   },
   "outputs": [],
   "source": [
    "def impute_age(data_frame): \n",
    "    imputed_age = data_frame.mean().custAge\n",
    "    data_frame['custAge'] = data_frame['custAge'].fillna(imputed_age)\n",
    "    return data_frame\n",
    "\n",
    "df = impute_age(df)"
   ]
  },
  {
   "cell_type": "markdown",
   "metadata": {},
   "source": [
    "Main advantage: really simple, really fast, but not that nuanced. If time had permitted, I would have inferred the missing ages from the values of the other predictor variables using SVD plus EM, e.g. see [here](https://stackoverflow.com/questions/35577553/how-to-fill-nan-values-in-numeric-array-to-apply-svd) and [here](https://github.com/hammerlab/fancyimpute)."
   ]
  },
  {
   "cell_type": "markdown",
   "metadata": {},
   "source": [
    "# Feature scaling\n",
    "\n",
    "To prevent oscillations during gradient descent arising from non-spherical level surfaces of the loss function, I made those surfaces more spherical by scaling features to lie in the interval $(0,1)$:\n",
    "\n"
   ]
  },
  {
   "cell_type": "code",
   "execution_count": 14,
   "metadata": {
    "collapsed": true
   },
   "outputs": [],
   "source": [
    "from sklearn.preprocessing import MinMaxScaler\n",
    "\n",
    "def extract_features_target(data_frame): \n",
    "    X = data_frame.drop('responded_yes', axis=1).values.astype(float)\n",
    "    y = data_frame.responded_yes.values.astype(float)\n",
    "\n",
    "    X_scaler = MinMaxScaler(feature_range=(0,1))\n",
    "    X = X_scaler.fit_transform(X)\n",
    "\n",
    "    return X, y"
   ]
  },
  {
   "cell_type": "markdown",
   "metadata": {},
   "source": [
    "# Model training and ROC validation\n",
    "\n",
    "I created a function `roc_analysis` that fits a classifer to a subset of the data and then cross-validates it on the remainder of the data. This fit-and-validate cycle is repeated k times (k-fold cross validation). \n",
    "\n",
    "The function also produces ROC curves to quantify model performance. In the presence of skewed classes, ROC curves better characterize algorithm performance than classification accuracy/error. \n",
    "\n"
   ]
  },
  {
   "cell_type": "code",
   "execution_count": 15,
   "metadata": {
    "collapsed": true
   },
   "outputs": [],
   "source": [
    "from sklearn.model_selection import StratifiedKFold\n",
    "from scipy import interp\n",
    "from sklearn.metrics import roc_curve, auc\n",
    "import matplotlib.pyplot as plt\n",
    "\n",
    "def parse_function_name(s):\n",
    "    end = s.find( '(' )\n",
    "    if end != -1:\n",
    "        return s[:end]\n",
    "    return 'error parsing function name'\n",
    "\n",
    "def roc_analysis(classifier, data_frame, number_splits=5): \n",
    "    \n",
    "    X, y = extract_features_target(data_frame)\n",
    "    cross_validator = StratifiedKFold(n_splits=number_splits, \n",
    "                                      shuffle=True)\n",
    "\n",
    "    tprs = []\n",
    "    aucs = []\n",
    "    mean_fpr = np.linspace(0, 1, 100)\n",
    "\n",
    "    for i, (train, test) in enumerate(cross_validator.split(X, y)):\n",
    "        probabilities = classifier.fit(X[train], y[train]).predict_proba(X[test])\n",
    "        fpr, tpr, thresholds = roc_curve(y[test], probabilities[:, 1])\n",
    "        tprs.append(interp(mean_fpr, fpr, tpr))\n",
    "        tprs[-1][0] = 0.0\n",
    "        roc_auc = auc(fpr, tpr)\n",
    "        aucs.append(roc_auc)\n",
    "        plt.plot(fpr, tpr, lw=1, alpha=0.3,\n",
    "                 label='ROC fold %d (AUC = %0.2f)' % (i, roc_auc))\n",
    "\n",
    "    plt.plot([0, 1], [0, 1], linestyle='--', lw=2, color='r',\n",
    "             label='classifier that ignores features', alpha=.8)\n",
    "\n",
    "    mean_tpr = np.mean(tprs, axis=0)\n",
    "    mean_tpr[-1] = 1.0\n",
    "    mean_auc = auc(mean_fpr, mean_tpr)\n",
    "    std_auc = np.std(aucs)\n",
    "    plt.plot(mean_fpr, mean_tpr, color='b',\n",
    "             label=r'Mean ROC (AUC = %0.2f $\\pm$ %0.2f)' % \n",
    "             (mean_auc, std_auc),\n",
    "             lw=2, alpha=.8)\n",
    "\n",
    "    std_tpr = np.std(tprs, axis=0)\n",
    "    tprs_upper = np.minimum(mean_tpr + std_tpr, 1)\n",
    "    tprs_lower = np.maximum(mean_tpr - std_tpr, 0)\n",
    "    plt.fill_between(mean_fpr, tprs_lower, tprs_upper, \n",
    "                     color='grey', alpha=.2,\n",
    "                     label=r'$\\pm$ 1 std. dev.')\n",
    "\n",
    "    plt.xlim([-0.05, 1.05])\n",
    "    plt.ylim([-0.05, 1.05])\n",
    "    plt.xlabel('False Positive Rate')\n",
    "    plt.ylabel('True Positive Rate')\n",
    "    plt.title(parse_function_name(classifier.__str__()))\n",
    "    plt.legend(loc=\"lower right\")\n",
    "    plt.show()"
   ]
  },
  {
   "cell_type": "markdown",
   "metadata": {},
   "source": [
    "# Logistic regression and neural networks \n",
    "\n",
    "It is always wise to start with a simple algorithm. The simplest classifier is logistic regression: \n",
    " "
   ]
  },
  {
   "cell_type": "code",
   "execution_count": 16,
   "metadata": {
    "scrolled": true
   },
   "outputs": [
    {
     "data": {
      "image/png": "[encoded data removed]",
      "text/plain": [
       "<matplotlib.figure.Figure at 0x1044256d8>"
      ]
     },
     "metadata": {},
     "output_type": "display_data"
    }
   ],
   "source": [
    "from sklearn.linear_model import LogisticRegression\n",
    "roc_analysis(LogisticRegression(), df)"
   ]
  },
  {
   "cell_type": "markdown",
   "metadata": {},
   "source": [
    "Mean area under the ROC curve (AUC) is 0.79. That's pretty good performance: it's about half-way between a classifier that ignores features (AUC = 0.5) and a perfect classifier (AUC = 1). \n",
    "\n",
    "Moreover, the fact that there is little variation in the ROC curves as the \"fold\" is varied strongly suggests that the model has low variance. Low variance can be demonstrated more formally via learning curves: \n",
    "\n",
    "\n",
    "\n",
    "\n"
   ]
  },
  {
   "cell_type": "code",
   "execution_count": 17,
   "metadata": {},
   "outputs": [
    {
     "data": {
      "image/png": "[encoded data removed]",
      "text/plain": [
       "<matplotlib.figure.Figure at 0x10ea7bb00>"
      ]
     },
     "metadata": {},
     "output_type": "display_data"
    }
   ],
   "source": [
    "from sklearn.model_selection import learning_curve\n",
    "\n",
    "def majority_class_predictor_accuracy(data_frame):\n",
    "    counts = dict(data_frame.responded_yes.value_counts())\n",
    "    min_counts = min(counts.values())\n",
    "    max_counts = max(counts.values())\n",
    "    return max_counts/float(min_counts+max_counts)\n",
    "\n",
    "def plot_learning_curve(classifier, data_frame, ylim=None):  \n",
    "    plt.title(parse_function_name(classifier.__str__()))\n",
    "    if ylim is not None:\n",
    "        plt.ylim(*ylim)\n",
    "    plt.xlabel(\"Training set size\")\n",
    "    plt.ylabel(\"Classification Score\")\n",
    "\n",
    "    X, y = extract_features_target(data_frame)\n",
    "    train_sizes, train_scores, test_scores = learning_curve(\n",
    "        classifier, X, y)\n",
    "    # average over cross validation folds:\n",
    "    train_scores_mean = np.mean(train_scores, axis=1)\n",
    "    train_scores_std = np.std(train_scores, axis=1)\n",
    "    test_scores_mean = np.mean(test_scores, axis=1)\n",
    "    test_scores_std = np.std(test_scores, axis=1)\n",
    "\n",
    "    plt.fill_between(train_sizes, \n",
    "                     train_scores_mean - train_scores_std,\n",
    "                     train_scores_mean + train_scores_std, \n",
    "                     alpha=0.1, color=\"r\")\n",
    "    plt.fill_between(train_sizes, \n",
    "                     test_scores_mean - test_scores_std,\n",
    "                     test_scores_mean + test_scores_std, \n",
    "                     alpha=0.1, color=\"g\")\n",
    "    plt.plot(train_sizes, train_scores_mean, \n",
    "             'o-', color=\"r\", label=\"Training score\")\n",
    "    plt.plot(train_sizes, test_scores_mean, \n",
    "             'o-', color=\"g\", label=\"Cross-validation score\")\n",
    "\n",
    "    baseline_score = majority_class_predictor_accuracy(data_frame)\n",
    "    \n",
    "    plt.plot([min(train_sizes), max(train_sizes)], \n",
    "             [baseline_score, baseline_score], \n",
    "             '--', color=\"black\", label=\"majority class predictor\")\n",
    "\n",
    "    plt.legend(loc=\"best\")\n",
    "    plt.show()\n",
    "\n",
    "plot_learning_curve(LogisticRegression(), df)"
   ]
  },
  {
   "cell_type": "markdown",
   "metadata": {},
   "source": [
    "After using all our training data, the model does about the same on the CV set as on the training set - that means we don't have  overfitting (the model generalized very well). \n",
    "\n",
    "But does the model have high bias? After all, the classification score is not that much higher than what you'd expect from a classifier that simply predicts the majority class all the time (see dashed horizontal line in the plot above). \n",
    "\n",
    "The only way to address the possibility that there is high bias is to increase the model's complexity and see whether CV performance goes up. Logistic regression can be viewed as a neural network with no hidden layers. I therefore next considered a net with one hidden layer. With that increase in model complexity comes an increase in variance, which I corrected by cranking up the regularization ($\\alpha$ term in the code that follows): \n"
   ]
  },
  {
   "cell_type": "code",
   "execution_count": 18,
   "metadata": {},
   "outputs": [
    {
     "data": {
      "image/png": "[encoded data removed]",
      "text/plain": [
       "<matplotlib.figure.Figure at 0x11263b6a0>"
      ]
     },
     "metadata": {},
     "output_type": "display_data"
    }
   ],
   "source": [
    "from sklearn.neural_network import MLPClassifier\n",
    "roc_analysis(MLPClassifier(hidden_layer_sizes=(100), alpha=1), df) "
   ]
  },
  {
   "cell_type": "markdown",
   "metadata": {},
   "source": [
    "Wow! The area under the curve hardly changed. This suggests that the original logistic regression model is not suffering from high bias. \n",
    "\n",
    "# Other models\n",
    "\n",
    "I wondered whether topologically different models might out-perform the simple logistic regression model. Neither of the two models I tried (support vector machine and decision tree) did: "
   ]
  },
  {
   "cell_type": "code",
   "execution_count": 19,
   "metadata": {},
   "outputs": [
    {
     "data": {
      "image/png": "[encoded data removed]",
      "text/plain": [
       "<matplotlib.figure.Figure at 0x112733e48>"
      ]
     },
     "metadata": {},
     "output_type": "display_data"
    }
   ],
   "source": [
    "from sklearn.svm import SVC\n",
    "roc_analysis(SVC(probability=True), df)"
   ]
  },
  {
   "cell_type": "code",
   "execution_count": 20,
   "metadata": {
    "scrolled": true
   },
   "outputs": [
    {
     "data": {
      "image/png": "[encoded data removed]",
      "text/plain": [
       "<matplotlib.figure.Figure at 0x1125ff278>"
      ]
     },
     "metadata": {},
     "output_type": "display_data"
    }
   ],
   "source": [
    "from sklearn.tree import DecisionTreeClassifier\n",
    "roc_analysis(DecisionTreeClassifier(), df)"
   ]
  },
  {
   "cell_type": "markdown",
   "metadata": {},
   "source": [
    "# Putting it all together \n",
    "\n",
    "I collected all of the sanitizing operations I describe above into a single function, `sanitize`, in order to sanitize the training and test data in a similar way. \n",
    "\n"
   ]
  },
  {
   "cell_type": "code",
   "execution_count": 21,
   "metadata": {
    "collapsed": true
   },
   "outputs": [],
   "source": [
    "def sanitize(data_frame):\n",
    "    data_frame = data_frame.replace('unknown', np.nan)\n",
    "    data_frame = data_frame.replace('nonexistent', np.nan)\n",
    "    data_frame = data_frame.drop('pmonths',axis=1)\n",
    "    data_frame['previously_contacted'] = data_frame.pdays!=999 \n",
    "    data_frame.loc[data_frame.pdays==999, 'pdays'] = -1\n",
    "    data_frame = track_missing_ages(data_frame)\n",
    "    data_frame = impute_age(data_frame)\n",
    "    return data_frame"
   ]
  },
  {
   "cell_type": "markdown",
   "metadata": {},
   "source": [
    "The list of values that a categorical variable assumed in the training and test sets were not perfectly coincident. I dealt with this by concatenating the sets, applying one-hot encoding on the concatenation, and then unpacking the concatenation into one-hot-encoded training and test sets. \n",
    "\n"
   ]
  },
  {
   "cell_type": "code",
   "execution_count": 22,
   "metadata": {
    "collapsed": true
   },
   "outputs": [],
   "source": [
    "def get_values(data_frame): \n",
    "    return data_frame.values.astype(float)\n",
    "\n",
    "def encode_train_test(): \n",
    "    df_train = sanitize(read_csv('marketing_training.csv'))\n",
    "    df_train_X = df_train.drop('responded', axis=1)\n",
    "    df_train_y = one_hot_encode(pd.DataFrame(df_train['responded']))\n",
    "\n",
    "    df_test_X = sanitize(read_csv('marketing_test.csv')).drop('Unnamed: 0', axis=1)\n",
    "\n",
    "    df_X = pd.concat([df_train_X, df_test_X])\n",
    "    df_X = one_hot_encode(df_X)\n",
    "    split = len(df_train_X)\n",
    "    df_train_X = df_X[:split]\n",
    "    df_test_X = df_X[split:]\n",
    "        \n",
    "    return (get_values(df_train_X), \n",
    "            get_values(df_train_y), \n",
    "            get_values(df_test_X))"
   ]
  },
  {
   "cell_type": "markdown",
   "metadata": {},
   "source": [
    "I re-trained the logistic regression model on the entire training set to predict whether customers in the test set responded favorably to the current marketing campaign. I then saved the data in a csv file in the same format as the training data. "
   ]
  },
  {
   "cell_type": "code",
   "execution_count": 23,
   "metadata": {
    "collapsed": true
   },
   "outputs": [],
   "source": [
    "def compute_normalized_X_y(): \n",
    "    X_train, y_train, X_test = encode_train_test() \n",
    "    X_scaler = MinMaxScaler(feature_range=(0,1))\n",
    "    X_train = X_scaler.fit_transform(X_train)\n",
    "    X_test = X_scaler.transform(X_test)\n",
    "    return X_train, y_train, X_test\n",
    "\n",
    "def convert_to_yes_or_no(x): \n",
    "    if int(x) == 0: \n",
    "        return 'no'\n",
    "    else: \n",
    "        return 'yes'\n",
    "\n",
    "def predict_with_final_model():\n",
    "    X_train, y_train, X_test = compute_normalized_X_y()\n",
    "    final_model = LogisticRegression()\n",
    "    predictions = final_model.fit(X_train, y_train.ravel()).predict(X_test)\n",
    "    predictions = list(map(convert_to_yes_or_no, predictions))\n",
    "\n",
    "    df_test = read_csv('marketing_test.csv')\n",
    "    df_test['responded'] = predictions\n",
    "    df_test.to_csv('marketing_test_with_predictions.csv')\n",
    "    \n",
    "predict_with_final_model()"
   ]
  }
 ],
 "metadata": {
  "kernelspec": {
   "display_name": "Python 3",
   "language": "python",
   "name": "python3"
  },
  "language_info": {
   "codemirror_mode": {
    "name": "ipython",
    "version": 3
   },
   "file_extension": ".py",
   "mimetype": "text/x-python",
   "name": "python",
   "nbconvert_exporter": "python",
   "pygments_lexer": "ipython3",
   "version": "3.6.4"
  }
 },
 "nbformat": 4,
 "nbformat_minor": 2
}
